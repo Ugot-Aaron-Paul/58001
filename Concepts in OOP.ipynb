{
  "nbformat": 4,
  "nbformat_minor": 0,
  "metadata": {
    "colab": {
      "provenance": [],
      "authorship_tag": "ABX9TyM4dSRWHRAiXQYKv6wYCe9g",
      "include_colab_link": true
    },
    "kernelspec": {
      "name": "python3",
      "display_name": "Python 3"
    },
    "language_info": {
      "name": "python"
    }
  },
  "cells": [
    {
      "cell_type": "markdown",
      "metadata": {
        "id": "view-in-github",
        "colab_type": "text"
      },
      "source": [
        "<a href=\"https://colab.research.google.com/github/Ugot-Aaron-Paul/OOP-58001/blob/main/Concepts%20in%20OOP.ipynb\" target=\"_parent\"><img src=\"https://colab.research.google.com/assets/colab-badge.svg\" alt=\"Open In Colab\"/></a>"
      ]
    },
    {
      "cell_type": "code",
      "execution_count": 1,
      "metadata": {
        "id": "u9ZvLyiXODd2"
      },
      "outputs": [],
      "source": [
        "#Class constructor\n",
        "class car:\n",
        "  pass"
      ]
    },
    {
      "cell_type": "code",
      "source": [
        "#Create a class\n",
        "\n",
        "class MyNumber:\n",
        "  x = 5\n",
        "\n",
        "num1 = MyNumber()\n",
        "print(num1.x)"
      ],
      "metadata": {
        "colab": {
          "base_uri": "https://localhost:8080/"
        },
        "id": "W2yvgz7YPa5x",
        "outputId": "153a9c93-2a96-424d-c8ba-275597244879"
      },
      "execution_count": 2,
      "outputs": [
        {
          "output_type": "stream",
          "name": "stdout",
          "text": [
            "5\n"
          ]
        }
      ]
    },
    {
      "cell_type": "code",
      "source": [
        "class Person:\n",
        "  def __init__(self, name, age):\n",
        "    self.name = name\n",
        "    self.age = age\n",
        "  def myFunction(self):\n",
        "    print(\"Hello, my name is \", self.name)\n",
        "person = Person(\"Ana\", 36)\n",
        "\n",
        "person.myFunction()"
      ],
      "metadata": {
        "colab": {
          "base_uri": "https://localhost:8080/"
        },
        "id": "VnRX7mo5RDb1",
        "outputId": "0c9bc351-30a5-48ee-9929-6ed3d4d7703f"
      },
      "execution_count": 9,
      "outputs": [
        {
          "output_type": "stream",
          "name": "stdout",
          "text": [
            "Hello, my name is  Ana\n"
          ]
        }
      ]
    },
    {
      "cell_type": "code",
      "source": [
        "person.name = \"jacob\"\n",
        "print(person.name)\n",
        "person.myFunction()"
      ],
      "metadata": {
        "colab": {
          "base_uri": "https://localhost:8080/"
        },
        "id": "Owz2I3fbUJq7",
        "outputId": "d2dbecfc-4836-434d-965f-0bf25f7ed394"
      },
      "execution_count": 14,
      "outputs": [
        {
          "output_type": "stream",
          "name": "stdout",
          "text": [
            "jacob\n",
            "Hello, my name is  jacob\n"
          ]
        }
      ]
    },
    {
      "cell_type": "code",
      "source": [
        "del person.age\n",
        "person.myFunction()\n",
        "print(print.name)"
      ],
      "metadata": {
        "colab": {
          "base_uri": "https://localhost:8080/",
          "height": 217
        },
        "id": "JieYb15BULb6",
        "outputId": "ca615ee3-1923-4680-fbdc-2ec7051fe63b"
      },
      "execution_count": 11,
      "outputs": [
        {
          "output_type": "stream",
          "name": "stdout",
          "text": [
            "Hello, my name is  james\n"
          ]
        },
        {
          "output_type": "error",
          "ename": "AttributeError",
          "evalue": "ignored",
          "traceback": [
            "\u001b[0;31m---------------------------------------------------------------------------\u001b[0m",
            "\u001b[0;31mAttributeError\u001b[0m                            Traceback (most recent call last)",
            "\u001b[0;32m<ipython-input-11-097d5b6c0a1a>\u001b[0m in \u001b[0;36m<module>\u001b[0;34m\u001b[0m\n\u001b[1;32m      1\u001b[0m \u001b[0;32mdel\u001b[0m \u001b[0mperson\u001b[0m\u001b[0;34m.\u001b[0m\u001b[0mage\u001b[0m\u001b[0;34m\u001b[0m\u001b[0;34m\u001b[0m\u001b[0m\n\u001b[1;32m      2\u001b[0m \u001b[0mperson\u001b[0m\u001b[0;34m.\u001b[0m\u001b[0mmyFunction\u001b[0m\u001b[0;34m(\u001b[0m\u001b[0;34m)\u001b[0m\u001b[0;34m\u001b[0m\u001b[0;34m\u001b[0m\u001b[0m\n\u001b[0;32m----> 3\u001b[0;31m \u001b[0mprint\u001b[0m\u001b[0;34m(\u001b[0m\u001b[0mprint\u001b[0m\u001b[0;34m.\u001b[0m\u001b[0mname\u001b[0m\u001b[0;34m)\u001b[0m\u001b[0;34m\u001b[0m\u001b[0;34m\u001b[0m\u001b[0m\n\u001b[0m",
            "\u001b[0;31mAttributeError\u001b[0m: 'builtin_function_or_method' object has no attribute 'name'"
          ]
        }
      ]
    },
    {
      "cell_type": "code",
      "source": [
        "# Compute for the area of Square \n",
        "\n",
        "class Shapes:\n",
        "  def __init__(self,side):    #initial function to name the attributes\n",
        "    self.side = side\n",
        "\n",
        "  def area(self):             #method/formula to compute for the area of a square\n",
        "    return self.side*self.side\n",
        "  \n",
        "  def display(self):          #method to display the area\n",
        "    print(\"the area of the square is\",self.area())\n",
        "\n",
        "square = Shapes(4)\n",
        "square.display()"
      ],
      "metadata": {
        "colab": {
          "base_uri": "https://localhost:8080/"
        },
        "id": "UCEgPVDhUlcR",
        "outputId": "4aafe650-589b-4ba7-9e5e-5ca7b1701fc7"
      },
      "execution_count": 13,
      "outputs": [
        {
          "output_type": "stream",
          "name": "stdout",
          "text": [
            "the area of the square is 16\n"
          ]
        }
      ]
    },
    {
      "cell_type": "code",
      "source": [
        "#Create a Python program with the following:\n",
        "#Student as class name\n",
        "#Fullname, Student Number, and School as attribute names\n",
        "#Construct a method to display the values of attributes\n",
        "#Use student as object name\n",
        "\n",
        "class Student:\n",
        "  def __init__(self,Fullname, Student_Number, School): \n",
        "    self.Fullname = Fullname\n",
        "    self.Student_Number = Student_Number\n",
        "    self.School = School\n",
        "  def display(self):\n",
        "    print(\"My name is \", self.Fullname)\n",
        "    print(\"My Student number is \", self.Student_Number)\n",
        "    print(\"Im currently studying at \", self.School)\n",
        "\n",
        "student = Student(\"Aaron Paul M. Ugot\", 202210683, \"Adamson University\")\n",
        "\n",
        "student.display()"
      ],
      "metadata": {
        "colab": {
          "base_uri": "https://localhost:8080/"
        },
        "id": "2XnDSpSlU87V",
        "outputId": "78588344-9a10-4c56-a98f-0ae5580f0371"
      },
      "execution_count": 27,
      "outputs": [
        {
          "output_type": "stream",
          "name": "stdout",
          "text": [
            "My name is  Aaron Paul M. Ugot\n",
            "My Student number is  202210683\n",
            "Im currently studying at  Adamson University\n"
          ]
        }
      ]
    }
  ]
}