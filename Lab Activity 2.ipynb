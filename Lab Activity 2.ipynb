{
  "nbformat": 4,
  "nbformat_minor": 0,
  "metadata": {
    "colab": {
      "provenance": [],
      "authorship_tag": "ABX9TyMX6odVcl9BOEVGYmkrJ+WR",
      "include_colab_link": true
    },
    "kernelspec": {
      "name": "python3",
      "display_name": "Python 3"
    },
    "language_info": {
      "name": "python"
    }
  },
  "cells": [
    {
      "cell_type": "markdown",
      "metadata": {
        "id": "view-in-github",
        "colab_type": "text"
      },
      "source": [
        "<a href=\"https://colab.research.google.com/github/Ugot-Aaron-Paul/OOP-58001/blob/main/Lab%20Activity%202.ipynb\" target=\"_parent\"><img src=\"https://colab.research.google.com/assets/colab-badge.svg\" alt=\"Open In Colab\"/></a>"
      ]
    },
    {
      "cell_type": "code",
      "source": [
        "class Circle:\n",
        "  def __init__(self,radius):\n",
        "    self.radius = radius\n",
        "    import math\n",
        "    self.pi = math.pi\n",
        "  \n",
        "  def area(self):\n",
        "    return self.pi*self.radius**2\n",
        "  \n",
        "  def perimeter(self):\n",
        "    return 2*self.pi*self.radius\n",
        "  \n",
        "  def display(self):\n",
        "    print(\"The Area of the circle is:\", self.area())\n",
        "    print(\"The Perimeter of the circle is:\", self.perimeter())\n",
        "  \n",
        "  circle = Circle(float(input(\"Enter the radius: \")))\n",
        "  circle.display()"
      ],
      "metadata": {
        "colab": {
          "base_uri": "https://localhost:8080/"
        },
        "id": "OHsOBDK4kJHN",
        "outputId": "8ef84ef4-62b6-4d7d-aeaf-a0e25444adfa"
      },
      "execution_count": 9,
      "outputs": [
        {
          "output_type": "stream",
          "name": "stdout",
          "text": [
            "Enter the radius: 5\n",
            "The Area of the circle is:  78.53981633974483\n",
            "The Perimeter of the circle is:  31.41592653589793\n"
          ]
        }
      ]
    }
  ]
}