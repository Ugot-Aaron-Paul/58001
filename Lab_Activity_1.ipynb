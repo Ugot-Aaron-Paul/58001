{
  "nbformat": 4,
  "nbformat_minor": 0,
  "metadata": {
    "colab": {
      "provenance": [],
      "authorship_tag": "ABX9TyNWEa+jVoMHMpWxvsYedbur",
      "include_colab_link": true
    },
    "kernelspec": {
      "name": "python3",
      "display_name": "Python 3"
    },
    "language_info": {
      "name": "python"
    }
  },
  "cells": [
    {
      "cell_type": "markdown",
      "metadata": {
        "id": "view-in-github",
        "colab_type": "text"
      },
      "source": [
        "<a href=\"https://colab.research.google.com/github/Ugot-Aaron-Paul/OOP-58001/blob/main/Lab_Activity_1.ipynb\" target=\"_parent\"><img src=\"https://colab.research.google.com/assets/colab-badge.svg\" alt=\"Open In Colab\"/></a>"
      ]
    },
    {
      "cell_type": "code",
      "execution_count": 18,
      "metadata": {
        "colab": {
          "base_uri": "https://localhost:8080/"
        },
        "id": "XZggbtKiGvW3",
        "outputId": "0bc31e01-d682-48c4-be5d-2155b86e5107"
      },
      "outputs": [
        {
          "output_type": "stream",
          "name": "stdout",
          "text": [
            "Sum =  210\n",
            "Average =  10.5\n"
          ]
        }
      ],
      "source": [
        "n = 20\n",
        "total_number = n\n",
        "sum = 0\n",
        "average = 0\n",
        "\n",
        "while n>=0:\n",
        "  sum += n\n",
        "  n -= 1\n",
        "  \n",
        "print(\"Sum = \" , sum)\n",
        "average = sum/total_number\n",
        "print(\"Average = \" , average)"
      ]
    }
  ]
}