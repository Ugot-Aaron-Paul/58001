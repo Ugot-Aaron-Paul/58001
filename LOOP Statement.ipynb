{
  "nbformat": 4,
  "nbformat_minor": 0,
  "metadata": {
    "colab": {
      "provenance": [],
      "authorship_tag": "ABX9TyNXoYdpiO9chXk+gClBqsT9",
      "include_colab_link": true
    },
    "kernelspec": {
      "name": "python3",
      "display_name": "Python 3"
    },
    "language_info": {
      "name": "python"
    }
  },
  "cells": [
    {
      "cell_type": "markdown",
      "metadata": {
        "id": "view-in-github",
        "colab_type": "text"
      },
      "source": [
        "<a href=\"https://colab.research.google.com/github/Ugot-Aaron-Paul/OOP-58001/blob/main/LOOP%20Statement.ipynb\" target=\"_parent\"><img src=\"https://colab.research.google.com/assets/colab-badge.svg\" alt=\"Open In Colab\"/></a>"
      ]
    },
    {
      "cell_type": "markdown",
      "source": [
        "for loop"
      ],
      "metadata": {
        "id": "L4N78voYZyRi"
      }
    },
    {
      "cell_type": "code",
      "source": [
        "week = [\"Sunday\", \"Monday\", \"Tuesday\", \"Wednesday\", \"Thursday\", \"Friday\", \"Saturday\"]\n",
        "\n",
        "for x in week:\n",
        "  print(x)"
      ],
      "metadata": {
        "colab": {
          "base_uri": "https://localhost:8080/"
        },
        "id": "dtMF_PMdZ-tE",
        "outputId": "e4296206-6ae4-4b16-a14c-c6c58a4225fd"
      },
      "execution_count": 13,
      "outputs": [
        {
          "output_type": "stream",
          "name": "stdout",
          "text": [
            "Sunday\n",
            "Monday\n",
            "Tuesday\n",
            "Wednesday\n",
            "Thursday\n",
            "Friday\n",
            "Saturday\n"
          ]
        }
      ]
    },
    {
      "cell_type": "markdown",
      "source": [
        "Break statement"
      ],
      "metadata": {
        "id": "r1gdGyRVXybw"
      }
    },
    {
      "cell_type": "code",
      "execution_count": 12,
      "metadata": {
        "colab": {
          "base_uri": "https://localhost:8080/"
        },
        "id": "ftbgG89oXtc2",
        "outputId": "9999c893-be36-4b72-98f8-86c6e1b6536c"
      },
      "outputs": [
        {
          "output_type": "stream",
          "name": "stdout",
          "text": [
            "Sunday\n",
            "Monday\n",
            "Tuesday\n",
            "Wednesday\n",
            "Thursday\n"
          ]
        }
      ],
      "source": [
        "week = [\"Sunday\", \"Monday\", \"Tuesday\", \"Wednesday\", \"Thursday\", \"Friday\", \"Saturday\"]\n",
        "\n",
        "for x in week:\n",
        "  print(x) #it on \n",
        "  if x == \"Thursday\":\n",
        "    break"
      ]
    },
    {
      "cell_type": "code",
      "source": [
        "for x in week:\n",
        "  if x == \"Thursday\":\n",
        "    print(x)  #it only displays thursday\n",
        "    break"
      ],
      "metadata": {
        "colab": {
          "base_uri": "https://localhost:8080/"
        },
        "id": "iZt3MVtDaYa_",
        "outputId": "313458ed-22fe-4dc4-89e9-9314877aa219"
      },
      "execution_count": 23,
      "outputs": [
        {
          "output_type": "stream",
          "name": "stdout",
          "text": [
            "Thursday\n"
          ]
        }
      ]
    },
    {
      "cell_type": "code",
      "source": [
        "for x in week:\n",
        "  if x == \"Thursday\":\n",
        "    break\n",
        "  print(x) # it only displays sunday to wednesday"
      ],
      "metadata": {
        "colab": {
          "base_uri": "https://localhost:8080/"
        },
        "id": "gjfzHbfvb0WD",
        "outputId": "70f5cb97-8910-487c-cd20-242d43a12de7"
      },
      "execution_count": 27,
      "outputs": [
        {
          "output_type": "stream",
          "name": "stdout",
          "text": [
            "Sunday\n",
            "Monday\n",
            "Tuesday\n",
            "Wednesday\n"
          ]
        }
      ]
    },
    {
      "cell_type": "code",
      "source": [
        "week = [\"Sunday\", \"Monday\", \"Tuesday\", \"Wednesday\", \"Thursday\", \"Friday\", \"Saturday\"]\n",
        "\n",
        "for x in week:\n",
        "  if x == \"Tuesday\":\n",
        "    print(x)\n",
        "  if x == \"Wednesday\":\n",
        "    print(x)\n",
        "    break"
      ],
      "metadata": {
        "colab": {
          "base_uri": "https://localhost:8080/"
        },
        "id": "kYqHmKMcc0DD",
        "outputId": "ff557b09-f118-4f87-9a36-2c9146cb8a9f"
      },
      "execution_count": 58,
      "outputs": [
        {
          "output_type": "stream",
          "name": "stdout",
          "text": [
            "Tuesday\n",
            "Wednesday\n"
          ]
        }
      ]
    },
    {
      "cell_type": "markdown",
      "source": [
        "looping through a string"
      ],
      "metadata": {
        "id": "t4Jc0PC7d6lj"
      }
    },
    {
      "cell_type": "code",
      "source": [
        "for x in \"week\":\n",
        "  print(x)"
      ],
      "metadata": {
        "colab": {
          "base_uri": "https://localhost:8080/"
        },
        "id": "_T9beSvId8i7",
        "outputId": "d235c164-c31b-4322-acaf-23dc23839665"
      },
      "execution_count": 46,
      "outputs": [
        {
          "output_type": "stream",
          "name": "stdout",
          "text": [
            "w\n",
            "e\n",
            "e\n",
            "k\n"
          ]
        }
      ]
    },
    {
      "cell_type": "markdown",
      "source": [
        "Nested loops"
      ],
      "metadata": {
        "id": "W50xCm4dcgPr"
      }
    },
    {
      "cell_type": "code",
      "source": [
        "adjective = [\"red\", \"big\", \"tasty\"]\n",
        "fruits = [\"apple\", \"banana\", \"cherry\"]\n",
        "\n",
        "for x in adjective:\n",
        "  for y in fruits:\n",
        "    print(x,y)"
      ],
      "metadata": {
        "colab": {
          "base_uri": "https://localhost:8080/"
        },
        "id": "ixUqGOQdelFj",
        "outputId": "80516581-ebde-44cb-fe35-f68d81a6aa27"
      },
      "execution_count": 49,
      "outputs": [
        {
          "output_type": "stream",
          "name": "stdout",
          "text": [
            "red apple\n",
            "red banana\n",
            "red cherry\n",
            "big apple\n",
            "big banana\n",
            "big cherry\n",
            "tasty apple\n",
            "tasty banana\n",
            "tasty cherry\n"
          ]
        }
      ]
    },
    {
      "cell_type": "markdown",
      "source": [
        "while loop"
      ],
      "metadata": {
        "id": "4auuJQBHgKPS"
      }
    },
    {
      "cell_type": "code",
      "source": [
        "i = 1\n",
        "\n",
        "while i<=6:\n",
        "  print(i)\n",
        "  i+=1"
      ],
      "metadata": {
        "colab": {
          "base_uri": "https://localhost:8080/"
        },
        "id": "fRtlhWAjgLCi",
        "outputId": "cd432a51-738c-4789-9bcd-636e0e51c706"
      },
      "execution_count": 67,
      "outputs": [
        {
          "output_type": "stream",
          "name": "stdout",
          "text": [
            "1\n",
            "2\n",
            "3\n",
            "4\n",
            "5\n",
            "6\n"
          ]
        }
      ]
    },
    {
      "cell_type": "code",
      "source": [
        "#using break statement\n",
        "i = 1\n",
        "\n",
        "while i < 6:\n",
        "  print(i)\n",
        "  if i == 3:\n",
        "    break\n",
        "  i += 1"
      ],
      "metadata": {
        "colab": {
          "base_uri": "https://localhost:8080/"
        },
        "id": "jO2If8KuhEIr",
        "outputId": "4ef10da2-dea9-45f2-b13f-4e6d63ba07c4"
      },
      "execution_count": 74,
      "outputs": [
        {
          "output_type": "stream",
          "name": "stdout",
          "text": [
            "1\n",
            "2\n",
            "3\n"
          ]
        }
      ]
    },
    {
      "cell_type": "code",
      "source": [
        "i = 1\n",
        "\n",
        "while i < 6: \n",
        "  if i == 3:\n",
        "    print(i) #print only 3\n",
        "    break\n",
        "  i += 1"
      ],
      "metadata": {
        "colab": {
          "base_uri": "https://localhost:8080/"
        },
        "id": "tDpTCYi8iLJS",
        "outputId": "0481cf4c-3f99-4efe-f31e-1964ca536b34"
      },
      "execution_count": 73,
      "outputs": [
        {
          "output_type": "stream",
          "name": "stdout",
          "text": [
            "3\n"
          ]
        }
      ]
    },
    {
      "cell_type": "markdown",
      "source": [
        "The else statement"
      ],
      "metadata": {
        "id": "xirRKWmOjEWi"
      }
    },
    {
      "cell_type": "code",
      "source": [
        "i = 1\n",
        "while i<6:\n",
        "  print(i)\n",
        "  i+=1\n",
        "else:\n",
        "  print(\"i is no longer less than 6\")"
      ],
      "metadata": {
        "colab": {
          "base_uri": "https://localhost:8080/"
        },
        "id": "QBpKbiOTiq7y",
        "outputId": "9bf316d5-d8fb-4228-de9d-b28a5abf4f81"
      },
      "execution_count": 76,
      "outputs": [
        {
          "output_type": "stream",
          "name": "stdout",
          "text": [
            "1\n",
            "2\n",
            "3\n",
            "4\n",
            "5\n",
            "i is no longer less than 6\n"
          ]
        }
      ]
    },
    {
      "cell_type": "markdown",
      "source": [
        "Application 1"
      ],
      "metadata": {
        "id": "_pEX3SYDkVEy"
      }
    },
    {
      "cell_type": "code",
      "source": [
        "i = 0\n",
        "\n",
        "while i <= 10:\n",
        "  print(\"Hello\",i) \n",
        "  i+=1"
      ],
      "metadata": {
        "colab": {
          "base_uri": "https://localhost:8080/"
        },
        "id": "wCpLkEwujTdv",
        "outputId": "df56bbfe-cc7a-41ad-b446-9feb9537481c"
      },
      "execution_count": 84,
      "outputs": [
        {
          "output_type": "stream",
          "name": "stdout",
          "text": [
            "Hello 0\n",
            "Hello 1\n",
            "Hello 2\n",
            "Hello 3\n",
            "Hello 4\n",
            "Hello 5\n",
            "Hello 6\n",
            "Hello 7\n",
            "Hello 8\n",
            "Hello 9\n",
            "Hello 10\n"
          ]
        }
      ]
    },
    {
      "cell_type": "markdown",
      "source": [
        "Application 2"
      ],
      "metadata": {
        "id": "OhTARjPfkS66"
      }
    },
    {
      "cell_type": "code",
      "source": [
        "i = 9\n",
        "\n",
        "while i >= 3:\n",
        "  print(i)\n",
        "  i-=1"
      ],
      "metadata": {
        "colab": {
          "base_uri": "https://localhost:8080/"
        },
        "id": "PH2WJgUbkGdr",
        "outputId": "1d5d9745-4857-4c12-e248-d206bdc90c67"
      },
      "execution_count": 87,
      "outputs": [
        {
          "output_type": "stream",
          "name": "stdout",
          "text": [
            "9\n",
            "8\n",
            "7\n",
            "6\n",
            "5\n",
            "4\n",
            "3\n"
          ]
        }
      ]
    }
  ]
}