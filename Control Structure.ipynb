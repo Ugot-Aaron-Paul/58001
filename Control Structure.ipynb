{
  "nbformat": 4,
  "nbformat_minor": 0,
  "metadata": {
    "colab": {
      "provenance": [],
      "authorship_tag": "ABX9TyOeJRnwmwtbMyX9c7AL6UhT",
      "include_colab_link": true
    },
    "kernelspec": {
      "name": "python3",
      "display_name": "Python 3"
    },
    "language_info": {
      "name": "python"
    }
  },
  "cells": [
    {
      "cell_type": "markdown",
      "metadata": {
        "id": "view-in-github",
        "colab_type": "text"
      },
      "source": [
        "<a href=\"https://colab.research.google.com/github/Ugot-Aaron-Paul/OOP-58001/blob/main/Control%20Structure.ipynb\" target=\"_parent\"><img src=\"https://colab.research.google.com/assets/colab-badge.svg\" alt=\"Open In Colab\"/></a>"
      ]
    },
    {
      "cell_type": "markdown",
      "source": [
        "Conditional Statement"
      ],
      "metadata": {
        "id": "FQCNOAAYDbgE"
      }
    },
    {
      "cell_type": "code",
      "execution_count": 30,
      "metadata": {
        "colab": {
          "base_uri": "https://localhost:8080/"
        },
        "id": "FrI7mDxADazE",
        "outputId": "c592acfc-359e-4f8a-fcc6-de88fbb42fca"
      },
      "outputs": [
        {
          "output_type": "stream",
          "name": "stdout",
          "text": [
            "b is greater than a\n",
            "c and d are equal\n",
            "e is greater than f\n",
            "10\n",
            "10\n",
            "x and y are the same\n"
          ]
        }
      ],
      "source": [
        "a = 12\n",
        "b = 100\n",
        "if b>a:\n",
        "  print(\"b is greater than a\")\n",
        "\n",
        "c = 12\n",
        "d = 12\n",
        "if d>c:\n",
        "  print(\"d is greater than a\")\n",
        "elif c == d:\n",
        "  print(\"c and d are equal\")\n",
        "\n",
        "e = 200\n",
        "f = 33\n",
        "if f>e:\n",
        "  print(\"f is greater than e\")\n",
        "elif e==f:\n",
        "  print(\"e and f are equal\")\n",
        "else:\n",
        "  print(\"e is greater than f\")\n",
        "\n",
        "x = int(input())\n",
        "y = int(input())\n",
        "\n",
        "if x>y:\n",
        "  print(\"x is greater than y\")\n",
        "elif y>x:\n",
        "  print(\"y is greater than x\")\n",
        "else:\n",
        "  print(\"x and y are the same\")"
      ]
    },
    {
      "cell_type": "markdown",
      "source": [
        "elif statement"
      ],
      "metadata": {
        "id": "8MIyQApXHcZT"
      }
    },
    {
      "cell_type": "code",
      "source": [
        "a = 150\n",
        "b = 50\n",
        "\n",
        "if a>b:\n",
        "  print(\"a is greater than b\")\n",
        "elif b>a:\n",
        "  print(\"b is greater than a\")\n",
        "else:\n",
        "  print(\"they are the same\")"
      ],
      "metadata": {
        "colab": {
          "base_uri": "https://localhost:8080/"
        },
        "id": "okStTRzgHgCr",
        "outputId": "cdb3c132-88c1-44a7-ea7d-f6a5d0ebbb49"
      },
      "execution_count": 31,
      "outputs": [
        {
          "output_type": "stream",
          "name": "stdout",
          "text": [
            "a is greater than b\n"
          ]
        }
      ]
    },
    {
      "cell_type": "markdown",
      "source": [
        "else statement"
      ],
      "metadata": {
        "id": "-LztDgz4H3hD"
      }
    },
    {
      "cell_type": "code",
      "source": [
        "if a>b:\n",
        "  print(\"a is greater than b\")\n",
        "elif b>a:\n",
        "  print(\"b is greater than a\")\n",
        "else:\n",
        "  print(\"they are the same\")"
      ],
      "metadata": {
        "colab": {
          "base_uri": "https://localhost:8080/"
        },
        "id": "JnuN8JmvH3O0",
        "outputId": "f5ef4f41-6474-4cdb-89fc-c5ded7464ab7"
      },
      "execution_count": 32,
      "outputs": [
        {
          "output_type": "stream",
          "name": "stdout",
          "text": [
            "a is greater than b\n"
          ]
        }
      ]
    },
    {
      "cell_type": "markdown",
      "source": [
        "Nested if"
      ],
      "metadata": {
        "id": "jiPtAsGFIkM7"
      }
    },
    {
      "cell_type": "code",
      "source": [
        "x = float(input())\n",
        "\n",
        "if x >10:\n",
        "  print(\"x is above 10\")\n",
        "  if x > 20:\n",
        "    print(\"x is above 20\")\n",
        "    if x > 30:\n",
        "      print(\"x is above 30\")\n",
        "      if x > 40:\n",
        "        print(\"x is above 40\")\n",
        "        if x<50:\n",
        "          print(\"but below 50\")\n",
        "        else:\n",
        "          print(\"but above 50\")\n",
        "      else:\n",
        "        print(\"but below 40\")\n",
        "    else:\n",
        "      print(\"but below 30\")\n",
        "  else:\n",
        "    print(\"but below 20\")    \n",
        "else:\n",
        "  print(\"it aint no above 10\")"
      ],
      "metadata": {
        "colab": {
          "base_uri": "https://localhost:8080/"
        },
        "id": "uJdvNy58JOmK",
        "outputId": "77e03d49-2c20-49b9-a957-1fee4d746700"
      },
      "execution_count": 106,
      "outputs": [
        {
          "output_type": "stream",
          "name": "stdout",
          "text": [
            "30.5\n",
            "x is above 10\n",
            "x is above 20\n",
            "x is above 30\n",
            "but below 40\n"
          ]
        }
      ]
    },
    {
      "cell_type": "markdown",
      "source": [
        "Example 1"
      ],
      "metadata": {
        "id": "8pkGq4W-OuVZ"
      }
    },
    {
      "cell_type": "code",
      "source": [
        "age = int(input())\n",
        "\n",
        "if age >= 18:\n",
        "  print(\"It is qualified to vote\")\n",
        "else:\n",
        "  print(\"It is a no no\")"
      ],
      "metadata": {
        "colab": {
          "base_uri": "https://localhost:8080/"
        },
        "id": "BmETSiVqMheS",
        "outputId": "179f2904-77f5-4fd8-f85d-6360f65c40f8"
      },
      "execution_count": 63,
      "outputs": [
        {
          "output_type": "stream",
          "name": "stdout",
          "text": [
            "13\n",
            "It is a no no\n"
          ]
        }
      ]
    },
    {
      "cell_type": "markdown",
      "source": [
        "Example 2"
      ],
      "metadata": {
        "id": "yyeyTXbzOvzq"
      }
    },
    {
      "cell_type": "code",
      "source": [
        "num = int(input())\n",
        "\n",
        "if num >= 1:\n",
        "  print(\"It is positive\")\n",
        "elif num < 0:\n",
        "  print(\"It is negative\")\n",
        "else:\n",
        "  print(\"It is zero\")"
      ],
      "metadata": {
        "colab": {
          "base_uri": "https://localhost:8080/"
        },
        "id": "sYsguiiMNFUK",
        "outputId": "a48e45f2-858c-47f2-be31-d58521fb1d93"
      },
      "execution_count": 66,
      "outputs": [
        {
          "output_type": "stream",
          "name": "stdout",
          "text": [
            "0\n",
            "It is zero\n"
          ]
        }
      ]
    },
    {
      "cell_type": "markdown",
      "source": [
        "Example 3"
      ],
      "metadata": {
        "id": "1GBozgGCOxGR"
      }
    },
    {
      "cell_type": "code",
      "source": [
        "grade = float(input())\n",
        "\n",
        "if grade >= 101:\n",
        "  print(\"LUPIT MO XD\")\n",
        "elif grade >= 70:\n",
        "  print(\"PASSED\")\n",
        "elif grade >= 65:\n",
        "  print(\"REMEDIAL\")\n",
        "elif grade >=0:\n",
        "  print(\"FAILED\")\n",
        "else:\n",
        "  print(\"NEGATIVE AINT NO GRADE\")"
      ],
      "metadata": {
        "colab": {
          "base_uri": "https://localhost:8080/"
        },
        "id": "tB8h7niVNwoK",
        "outputId": "d6bab9e4-3b05-4b3f-ca3c-5be741b58b8d"
      },
      "execution_count": 108,
      "outputs": [
        {
          "output_type": "stream",
          "name": "stdout",
          "text": [
            "101\n",
            "LUPIT MO XD\n"
          ]
        }
      ]
    }
  ]
}