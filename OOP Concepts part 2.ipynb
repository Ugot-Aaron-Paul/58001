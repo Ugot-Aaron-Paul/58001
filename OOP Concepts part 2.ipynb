{
  "nbformat": 4,
  "nbformat_minor": 0,
  "metadata": {
    "colab": {
      "provenance": [],
      "authorship_tag": "ABX9TyPBoXk6ta7ESs9hPttO8Kgs",
      "include_colab_link": true
    },
    "kernelspec": {
      "name": "python3",
      "display_name": "Python 3"
    },
    "language_info": {
      "name": "python"
    }
  },
  "cells": [
    {
      "cell_type": "markdown",
      "metadata": {
        "id": "view-in-github",
        "colab_type": "text"
      },
      "source": [
        "<a href=\"https://colab.research.google.com/github/Ugot-Aaron-Paul/OOP-58001/blob/main/OOP%20Concepts%20part%202.ipynb\" target=\"_parent\"><img src=\"https://colab.research.google.com/assets/colab-badge.svg\" alt=\"Open In Colab\"/></a>"
      ]
    },
    {
      "cell_type": "markdown",
      "source": [
        "Class with multiple objects"
      ],
      "metadata": {
        "id": "r78s4Zl0W7Q_"
      }
    },
    {
      "cell_type": "code",
      "source": [
        "class Birds:\n",
        "  def __init__(self,bird_name):\n",
        "    self.bird_name = bird_name\n",
        "  def flying_bird(self):\n",
        "    print(f\"{self.bird_name} flies above clouds\")\n",
        "  def non_flying_birds(self):\n",
        "    print(f\"{self.bird_name} is the national bird of philippines\")\n",
        "\n",
        "vulture = Birds(\"GriffonVulture\")\n",
        "crane = Birds(\"Common Crane\")\n",
        "emu = Birds(\"Emu\")\n",
        "\n",
        "vulture.flying_bird()\n",
        "crane.flying_bird()\n",
        "emu.non_flying_birds()"
      ],
      "metadata": {
        "colab": {
          "base_uri": "https://localhost:8080/"
        },
        "id": "R_a_2N_cT2RI",
        "outputId": "d835a578-cb12-4de8-9476-568b895633e7"
      },
      "execution_count": 9,
      "outputs": [
        {
          "output_type": "stream",
          "name": "stdout",
          "text": [
            "GriffonVulture flies above clouds\n",
            "Common Crane flies above clouds\n",
            "Emu is the national bird of philippines\n",
            "ignacio is the national bird of philippines\n"
          ]
        }
      ]
    },
    {
      "cell_type": "markdown",
      "source": [
        "Encapsulation"
      ],
      "metadata": {
        "id": "8znzw8oZYqCf"
      }
    },
    {
      "cell_type": "code",
      "source": [
        "class foo:\n",
        "  def __init__(self,a,b):\n",
        "    self.__a = a\n",
        "    self.b = b\n",
        "  def add(self):\n",
        "    return self.__a+self.b\n",
        "\n",
        "foo_object = foo(3,4)\n",
        "foo_object.add()\n",
        "foo_object.a = 5\n",
        "foo_object.add()"
      ],
      "metadata": {
        "colab": {
          "base_uri": "https://localhost:8080/"
        },
        "id": "oEv-YNvkYrnO",
        "outputId": "e4e72b84-10bd-425d-97b3-80b52643d8b1"
      },
      "execution_count": 19,
      "outputs": [
        {
          "output_type": "execute_result",
          "data": {
            "text/plain": [
              "7"
            ]
          },
          "metadata": {},
          "execution_count": 19
        }
      ]
    },
    {
      "cell_type": "code",
      "source": [
        "class Counter:\n",
        "  def __init__(self):\n",
        "    self.current = 0\n",
        "  \n",
        "  def increment(self):\n",
        "    self.current +=1\n",
        "  \n",
        "  def value(self):\n",
        "    return self.current\n",
        "  \n",
        "  def reset(self):\n",
        "    self.current = 0\n",
        "\n",
        "counter = Counter()\n",
        "counter.increment()\n",
        "counter.value()\n",
        "counter.reset()\n",
        "counter.value()"
      ],
      "metadata": {
        "colab": {
          "base_uri": "https://localhost:8080/"
        },
        "id": "dbWas4F5b6CH",
        "outputId": "096a2b0e-fd4f-43e2-e9ac-d07fae9c2ca6"
      },
      "execution_count": 31,
      "outputs": [
        {
          "output_type": "execute_result",
          "data": {
            "text/plain": [
              "0"
            ]
          },
          "metadata": {},
          "execution_count": 31
        }
      ]
    },
    {
      "cell_type": "markdown",
      "source": [
        "Inheritance"
      ],
      "metadata": {
        "id": "BoM9IOlgeDfG"
      }
    },
    {
      "cell_type": "code",
      "source": [
        "class person:\n",
        "  def __init__(self,name,birthdate):\n",
        "    self.name = name\n",
        "    self.birthdate = birthdate\n",
        "  \n",
        "  def display(self):\n",
        "    print(f\"My name is {self.name}\")\n",
        "    print(f\"My Birthdate is {self.birthdate}\")\n",
        "\n",
        "class Student(person):\n",
        "  pass\n",
        "\n",
        "class Teacher(person):\n",
        "  pass\n",
        "\n",
        "student = Student(\"Aaron\", \"Feb 7, 2004\")\n",
        "student.display()\n",
        "\n",
        "teacher = Teacher(\"Maria\", \"Jan 3, 1984\")\n",
        "teacher.display()"
      ],
      "metadata": {
        "colab": {
          "base_uri": "https://localhost:8080/"
        },
        "id": "GQpbdxPweFO3",
        "outputId": "b16a30e4-a237-44ac-8240-3972456bdb0e"
      },
      "execution_count": 36,
      "outputs": [
        {
          "output_type": "stream",
          "name": "stdout",
          "text": [
            "My name is Aaron\n",
            "My Birthdate is Feb 7, 2004\n",
            "My name is Maria\n",
            "My Birthdate is Jan 3, 1984\n"
          ]
        }
      ]
    },
    {
      "cell_type": "code",
      "source": [
        "class shapes:\n",
        "  def __init__(self, side, shape):\n",
        "    self.__side = side\n",
        "    self.shape = shape\n",
        "  def display(self):\n",
        "    if self.__side != self.side:\n",
        "      print(f\"No! {self.shape} will still have {self.__side} sides\")\n",
        "    else:\n",
        "      print(f\"Correct, {self.shape} have {self.__side} sides\")\n",
        "\n",
        "class Triangle(shapes):\n",
        "  pass\n",
        "\n",
        "class Circle(shapes):\n",
        "  pass\n",
        "\n",
        "class Square(shapes):\n",
        "  pass\n",
        "\n",
        "class Pentagon(shapes):\n",
        "  pass\n",
        "\n",
        "class Octagon(shapes):\n",
        "  pass\n",
        "\n",
        "triangle = Triangle(3, \"Triangle\")\n",
        "triangle.side = float(input(\"What num you want to change the side the Triangle:\"))\n",
        "triangle.display()\n",
        "circle = Circle(0, \"Circle\")\n",
        "circle.side = float(input(\"What num you want to change the side the Circle:\"))\n",
        "circle.display()\n",
        "square = Square(4, \"Square\")\n",
        "square.side = float(input(\"What num you want to change the side the Square:\"))\n",
        "square.display()\n",
        "pentagon = Pentagon(5, \"Pentagon\")\n",
        "pentagon.side = float(input(\"What num you want to change the side the Pentagon:\"))\n",
        "pentagon.display()\n",
        "octagon = Octagon(8, \"Octagon\")\n",
        "octagon.side = float(input(\"What num you want to change the side Octagon:\"))\n",
        "octagon.display()"
      ],
      "metadata": {
        "colab": {
          "base_uri": "https://localhost:8080/"
        },
        "id": "pzH_ltRGggq_",
        "outputId": "73101bf5-9139-4711-98f1-3373feee22b7"
      },
      "execution_count": 70,
      "outputs": [
        {
          "output_type": "stream",
          "name": "stdout",
          "text": [
            "What num you want to change the side the Triangle:4\n",
            "No! Triangle will still have 3 sides\n",
            "What num you want to change the side the Circle:0\n",
            "Correct, Circle have 0 sides\n",
            "What num you want to change the side the Square:0\n",
            "No! Square will still have 4 sides\n",
            "What num you want to change the side the Pentagon:5\n",
            "Correct, Pentagon have 5 sides\n",
            "What num you want to change the side Octagon:8\n",
            "Correct, Octagon have 8 sides\n"
          ]
        }
      ]
    }
  ]
}