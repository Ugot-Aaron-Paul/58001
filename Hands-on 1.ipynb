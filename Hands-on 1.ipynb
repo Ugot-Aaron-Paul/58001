{
  "nbformat": 4,
  "nbformat_minor": 0,
  "metadata": {
    "colab": {
      "provenance": [],
      "authorship_tag": "ABX9TyNvnspCnzdov8tWaIZ9ZFTu",
      "include_colab_link": true
    },
    "kernelspec": {
      "name": "python3",
      "display_name": "Python 3"
    },
    "language_info": {
      "name": "python"
    }
  },
  "cells": [
    {
      "cell_type": "markdown",
      "metadata": {
        "id": "view-in-github",
        "colab_type": "text"
      },
      "source": [
        "<a href=\"https://colab.research.google.com/github/Ugot-Aaron-Paul/OOP-58001/blob/main/Hands-on%201.ipynb\" target=\"_parent\"><img src=\"https://colab.research.google.com/assets/colab-badge.svg\" alt=\"Open In Colab\"/></a>"
      ]
    },
    {
      "cell_type": "markdown",
      "source": [
        "Polymorphism"
      ],
      "metadata": {
        "id": "2pXME1kWZHCi"
      }
    },
    {
      "cell_type": "code",
      "execution_count": 1,
      "metadata": {
        "id": "JXOn7fHFSrxi"
      },
      "outputs": [],
      "source": [
        "class RegularPolygon:\n",
        "  def __init__(self,side):\n",
        "    self.side = side\n",
        "class Square(RegularPolygon):\n",
        "  def area(self):\n",
        "    return self.side*self.side\n",
        "class EquilateralTriangle(RegularPolygon):\n",
        "  def area(self):\n",
        "    return self.side*self.side*0.433"
      ]
    },
    {
      "cell_type": "markdown",
      "source": [
        "hands on activity"
      ],
      "metadata": {
        "id": "aGWMXjn6ak8i"
      }
    },
    {
      "cell_type": "code",
      "source": [
        "class Person:\n",
        "  def __init__(self,student):\n",
        "    self.student = student\n",
        "    import random\n",
        "    self.__pre = random.randint(65, 99)\n",
        "    self.__mid = random.randint(65, 99)\n",
        "    self.__fin = random.randint(65, 99)\n",
        "  def Grade(self):\n",
        "    return (self.__pre+self.__mid+self.__fin)/3\n",
        "  def display(self):\n",
        "    print(f\"{self.student} have {self.__pre} for prelims, {self.__mid} for midterms, and {self.__fin} for finals with an avererage of {self.Grade()}\")\n",
        "\n",
        "class std1(Person):\n",
        "  def __init__(self):\n",
        "    super().__init__(\"Student 1\")\n",
        "\n",
        "class std2(Person):\n",
        "  def __init__(self):\n",
        "    super().__init__(\"Student 2\")\n",
        "\n",
        "class std3(Person):\n",
        "  def __init__(self):\n",
        "    super().__init__(\"Student 3\")\n",
        "\n",
        "Std1 = std1()\n",
        "Std2 = std2()\n",
        "Std3 = std3()\n",
        "\n",
        "Std1.display()\n",
        "Std2.display()\n",
        "Std3.display()"
      ],
      "metadata": {
        "colab": {
          "base_uri": "https://localhost:8080/"
        },
        "id": "hqBpGZsUaf1q",
        "outputId": "83d56423-f4e5-4f97-8844-373c23cb7ef6"
      },
      "execution_count": 11,
      "outputs": [
        {
          "output_type": "stream",
          "name": "stdout",
          "text": [
            "Student 1 have 95 for prelims, 70 for midterms, and 89 for finals with an avererage of 84.66666666666667\n",
            "Student 2 have 83 for prelims, 89 for midterms, and 76 for finals with an avererage of 82.66666666666667\n",
            "Student 3 have 90 for prelims, 73 for midterms, and 84 for finals with an avererage of 82.33333333333333\n"
          ]
        }
      ]
    },
    {
      "cell_type": "code",
      "source": [
        "class Person:\n",
        "  def __init__(self,student,pre,mid,fin):\n",
        "    self.student = student\n",
        "    self.__pre = pre\n",
        "    self.__mid = mid\n",
        "    self.__fin = fin\n",
        "  def Grade(self):\n",
        "    return (self.__pre+self.__mid+self.__fin)/3\n",
        "  def display(self):\n",
        "    print(f\"{self.student} have {self.__pre} for prelims, {self.__mid} for midterms, and {self.__fin} for finals with an avererage of {self.Grade()}\")\n",
        "\n",
        "class std1(Person):\n",
        "  def __init__(self):\n",
        "    student = \"Student 1\"\n",
        "    print(f\"{student} Grades:\")\n",
        "    pre = float(input(\"prelim: \"))\n",
        "    mid = float(input(\"midterm: \"))\n",
        "    fin = float(input(\"final: \"))\n",
        "    super().__init__(student,pre,mid,fin)\n",
        "class std2(Person):\n",
        "  def __init__(self):\n",
        "    student = \"Student 2\"\n",
        "    print(f\"{student} Grades:\")\n",
        "    pre = float(input(\"prelim: \"))\n",
        "    mid = float(input(\"midterm: \"))\n",
        "    fin = float(input(\"final: \"))\n",
        "    super().__init__(student,pre,mid,fin)\n",
        "class std3(Person):\n",
        "  def __init__(self):\n",
        "    student = \"Student 3\"\n",
        "    print(f\"{student} Grades:\")\n",
        "    pre = float(input(\"prelim: \"))\n",
        "    mid = float(input(\"midterm: \"))\n",
        "    fin = float(input(\"final: \"))\n",
        "    super().__init__(student,pre,mid,fin)\n",
        "\n",
        "Std1 = std1()\n",
        "Std2 = std2()\n",
        "Std3 = std3()\n",
        "\n",
        "Std1.display()\n",
        "Std2.display()\n",
        "Std3.display()"
      ],
      "metadata": {
        "colab": {
          "base_uri": "https://localhost:8080/"
        },
        "id": "75xR1K_cjTc8",
        "outputId": "fa70bee9-845d-45a2-9b38-1f66db089739"
      },
      "execution_count": 26,
      "outputs": [
        {
          "output_type": "stream",
          "name": "stdout",
          "text": [
            "Student 1 Grades:\n",
            "prelim: 90\n",
            "midterm: 80\n",
            "final: 90\n",
            "Student 2 Grades:\n",
            "prelim: 91.5\n",
            "midterm: 85\n",
            "final: 70\n",
            "Student 3 Grades:\n",
            "prelim: 70\n",
            "midterm: 80\n",
            "final: 90\n",
            "Student 1 have 90.0 for prelims, 80.0 for midterms, and 90.0 for finals with an avererage of 86.66666666666667\n",
            "Student 2 have 91.5 for prelims, 85.0 for midterms, and 70.0 for finals with an avererage of 82.16666666666667\n",
            "Student 3 have 70.0 for prelims, 80.0 for midterms, and 90.0 for finals with an avererage of 80.0\n"
          ]
        }
      ]
    }
  ]
}