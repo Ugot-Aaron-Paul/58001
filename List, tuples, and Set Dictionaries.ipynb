{
  "nbformat": 4,
  "nbformat_minor": 0,
  "metadata": {
    "colab": {
      "provenance": [],
      "authorship_tag": "ABX9TyO9l+/TWl+PpTzrL9SMSfMx",
      "include_colab_link": true
    },
    "kernelspec": {
      "name": "python3",
      "display_name": "Python 3"
    },
    "language_info": {
      "name": "python"
    }
  },
  "cells": [
    {
      "cell_type": "markdown",
      "metadata": {
        "id": "view-in-github",
        "colab_type": "text"
      },
      "source": [
        "<a href=\"https://colab.research.google.com/github/Ugot-Aaron-Paul/OOP-58001/blob/main/List%2C%20tuples%2C%20and%20Set%20Dictionaries.ipynb\" target=\"_parent\"><img src=\"https://colab.research.google.com/assets/colab-badge.svg\" alt=\"Open In Colab\"/></a>"
      ]
    },
    {
      "cell_type": "markdown",
      "source": [
        "Functions"
      ],
      "metadata": {
        "id": "Mzc28hmULrq4"
      }
    },
    {
      "cell_type": "code",
      "execution_count": 13,
      "metadata": {
        "colab": {
          "base_uri": "https://localhost:8080/"
        },
        "id": "-aVMdWBBLmmG",
        "outputId": "cf91e111-8212-41fb-8e00-18f3d5d955a9"
      },
      "outputs": [
        {
          "output_type": "execute_result",
          "data": {
            "text/plain": [
              "50"
            ]
          },
          "metadata": {},
          "execution_count": 13
        }
      ],
      "source": [
        "class Shapes:\n",
        "  def __init__(self,length, width):\n",
        "    self.length=length\n",
        "    self.width=width\n",
        "  def area(self):\n",
        "    return self.length * self.width\n",
        "\n",
        "rectangle = Shapes(10,5)\n",
        "rectangle.area()"
      ]
    },
    {
      "cell_type": "code",
      "source": [
        "class person:\n",
        "  def __init__(self,name,age):\n",
        "    self.name=name\n",
        "    self.age=age\n",
        "  def me(self):\n",
        "    print(\"Name is \" + self.name + \", \" + \"My age is \" + self.age)\n",
        "\n",
        "people=person(\"Ugot\", \"19\")\n",
        "people.me()"
      ],
      "metadata": {
        "colab": {
          "base_uri": "https://localhost:8080/"
        },
        "id": "OoVXliW8N86P",
        "outputId": "92fbae6a-8a76-438f-fc6c-4235ffdba94b"
      },
      "execution_count": 33,
      "outputs": [
        {
          "output_type": "stream",
          "name": "stdout",
          "text": [
            "Name is Ugot, My age is 19\n"
          ]
        }
      ]
    },
    {
      "cell_type": "markdown",
      "source": [
        "List"
      ],
      "metadata": {
        "id": "JsYST8rMUrv3"
      }
    },
    {
      "cell_type": "code",
      "source": [
        "pi = 3.14159\n",
        "varlist = ['abc',1,'def',2]\n",
        "print(varlist[0])\n",
        "\n",
        "varlist.append('ghi')\n",
        "print(varlist)\n",
        "varlist.remove(2)\n",
        "print(varlist)\n",
        "varlist.insert(3,3)\n",
        "print(varlist)"
      ],
      "metadata": {
        "colab": {
          "base_uri": "https://localhost:8080/"
        },
        "id": "38_TiDzoUpKA",
        "outputId": "478f2d0e-eda9-4a00-d3ec-b198be43a6bf"
      },
      "execution_count": 38,
      "outputs": [
        {
          "output_type": "stream",
          "name": "stdout",
          "text": [
            "abc\n",
            "['abc', 1, 'def', 2, 'ghi']\n",
            "['abc', 1, 'def', 'ghi']\n",
            "['abc', 1, 'def', 3, 'ghi']\n"
          ]
        }
      ]
    },
    {
      "cell_type": "markdown",
      "source": [
        "Dictionaries"
      ],
      "metadata": {
        "id": "csYZkkr5WM0-"
      }
    },
    {
      "cell_type": "code",
      "source": [
        "students = {\n",
        "    1:\"ypanto\",\n",
        "    2:\"tugaoen\",\n",
        "    3:\"turiano\",\n",
        "    4:\"valdez\",\n",
        "    5:\"jamandre\",\n",
        "    6:\"novilla\",\n",
        "\n",
        "}\n",
        "\n",
        "print(students)"
      ],
      "metadata": {
        "colab": {
          "base_uri": "https://localhost:8080/"
        },
        "id": "N-YgeMpQWPAm",
        "outputId": "d976b7b2-836b-420a-b551-600ffa195c93"
      },
      "execution_count": 41,
      "outputs": [
        {
          "output_type": "stream",
          "name": "stdout",
          "text": [
            "{1: 'ypanto', 2: 'tugaoen', 3: 'turiano', 4: 'valdez', 5: 'jamandre', 6: 'novilla'}\n"
          ]
        }
      ]
    }
  ]
}